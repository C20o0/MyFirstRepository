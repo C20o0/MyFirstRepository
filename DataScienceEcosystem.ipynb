{
 "cells": [
  {
   "cell_type": "markdown",
   "id": "bdd5e840-721a-40f0-bd93-1dfe2915dd29",
   "metadata": {},
   "source": [
    "# Data Science Tools and Ecosystem"
   ]
  },
  {
   "cell_type": "markdown",
   "id": "41847c7d-e0b7-4dad-b19f-930d08b3fb47",
   "metadata": {},
   "source": [
    "In this notebook, Data Science Tools and Ecosystem are summarized."
   ]
  },
  {
   "cell_type": "markdown",
   "id": "4d1fba66-bd34-40da-91d5-a568563b7abd",
   "metadata": {},
   "source": [
    "## Author\n",
    "Saeed Sayed\n",
    "\n",
    "**Objectives:**\n",
    "* List popular languages for Data Science.\n",
    "* List popular libararies for Data Science.\n",
    "* List popular tools for Data Science.\n",
    "* Making a table in Markdown.\n",
    "* Simple Math in Jupyter Notebook."
   ]
  },
  {
   "cell_type": "markdown",
   "id": "57a2ee64-66b1-4cd0-8808-4d77e1f4fbe9",
   "metadata": {},
   "source": [
    "Some of the popular languages that Data Scientists use are:\n",
    " 1. Python\n",
    " 2. R\n",
    " 3. Julia"
   ]
  },
  {
   "cell_type": "markdown",
   "id": "ace7d864-aa4a-4c2b-8688-2141c8e52b74",
   "metadata": {},
   "source": [
    "Some of the commonly used libraries used by Data Scientists include:\n",
    " 1. dplyr\n",
    " 2. ggplot\n",
    " 3. caret"
   ]
  },
  {
   "cell_type": "markdown",
   "id": "b29dba1f-7886-44f2-991d-8ad5315d4728",
   "metadata": {},
   "source": [
    "|Data Science Tools|\n",
    "|------------------|\n",
    "|Jupyter Notebooks|\n",
    "| RStudio|\n",
    "| GitLab |\n"
   ]
  },
  {
   "cell_type": "markdown",
   "id": "44b5691b-f6f1-4c2f-9506-282eb920191f",
   "metadata": {},
   "source": [
    "### Below are a few examples of evaluating arithmetic expressions in Python"
   ]
  },
  {
   "cell_type": "code",
   "execution_count": 6,
   "id": "01e5d635-62d4-43ed-a8db-1b5567111db7",
   "metadata": {},
   "outputs": [
    {
     "data": {
      "text/plain": [
       "17"
      ]
     },
     "execution_count": 6,
     "metadata": {},
     "output_type": "execute_result"
    }
   ],
   "source": [
    "# This a simple arithmetic expression to multiply then add integers\n",
    "(3*4)+5"
   ]
  },
  {
   "cell_type": "code",
   "execution_count": 7,
   "id": "c4cc11e6-6388-4a2d-98aa-346aa3ece9de",
   "metadata": {},
   "outputs": [
    {
     "data": {
      "text/plain": [
       "3.3333333333333335"
      ]
     },
     "execution_count": 7,
     "metadata": {},
     "output_type": "execute_result"
    }
   ],
   "source": [
    "# This will convert 200 minutes to hours by diving by 60\n",
    "(200/60)"
   ]
  }
 ],
 "metadata": {
  "kernelspec": {
   "display_name": "Python 3 (ipykernel)",
   "language": "python",
   "name": "python3"
  },
  "language_info": {
   "codemirror_mode": {
    "name": "ipython",
    "version": 3
   },
   "file_extension": ".py",
   "mimetype": "text/x-python",
   "name": "python",
   "nbconvert_exporter": "python",
   "pygments_lexer": "ipython3",
   "version": "3.12.8"
  }
 },
 "nbformat": 4,
 "nbformat_minor": 5
}
